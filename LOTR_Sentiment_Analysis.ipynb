{
  "nbformat": 4,
  "nbformat_minor": 0,
  "metadata": {
    "colab": {
      "name": "LOTR Sentiment Analysis",
      "provenance": [],
      "authorship_tag": "ABX9TyOWFkOmR2ur1PD5+JtJLYrW",
      "include_colab_link": true
    },
    "kernelspec": {
      "name": "python3",
      "display_name": "Python 3"
    }
  },
  "cells": [
    {
      "cell_type": "markdown",
      "metadata": {
        "id": "view-in-github",
        "colab_type": "text"
      },
      "source": [
        "<a href=\"https://colab.research.google.com/github/dwintz14/LOTRsentimentanalysis/blob/master/LOTR_Sentiment_Analysis.ipynb\" target=\"_parent\"><img src=\"https://colab.research.google.com/assets/colab-badge.svg\" alt=\"Open In Colab\"/></a>"
      ]
    },
    {
      "cell_type": "markdown",
      "metadata": {
        "id": "YuKbvF1Rzs-g",
        "colab_type": "text"
      },
      "source": [
        "dwintz14\n",
        "\n",
        "Spring 2020\n",
        "\n",
        "#Lord of the Rings Sentiment Analysis"
      ]
    },
    {
      "cell_type": "markdown",
      "metadata": {
        "id": "gjHAViwb0TKZ",
        "colab_type": "text"
      },
      "source": [
        "## Data Pre-Processing"
      ]
    },
    {
      "cell_type": "code",
      "metadata": {
        "id": "W8Zij_o1Yc4C",
        "colab_type": "code",
        "outputId": "afc28e5d-b5e9-40b2-b176-e1ed338ed01f",
        "colab": {
          "base_uri": "https://localhost:8080/",
          "height": 102
        }
      },
      "source": [
        "# Set up\n",
        "from google.colab import drive\n",
        "drive.mount('/content/drive')\n",
        "import nltk\n",
        "nltk.download('punkt')\n",
        "from nltk.sentiment.vader import SentimentIntensityAnalyzer \n",
        "nltk.download('vader_lexicon')\n",
        "import matplotlib.pyplot as plt\n",
        "import numpy as np\n",
        "import pandas as pd"
      ],
      "execution_count": 2,
      "outputs": [
        {
          "output_type": "stream",
          "text": [
            "Drive already mounted at /content/drive; to attempt to forcibly remount, call drive.mount(\"/content/drive\", force_remount=True).\n",
            "[nltk_data] Downloading package punkt to /root/nltk_data...\n",
            "[nltk_data]   Package punkt is already up-to-date!\n",
            "[nltk_data] Downloading package vader_lexicon to /root/nltk_data...\n",
            "[nltk_data]   Package vader_lexicon is already up-to-date!\n"
          ],
          "name": "stdout"
        }
      ]
    },
    {
      "cell_type": "code",
      "metadata": {
        "id": "w6VJOG9RhEny",
        "colab_type": "code",
        "colab": {}
      },
      "source": [
        "# Load the books\n",
        "# Files can be found at: \n",
        "# https://www.kaggle.com/ashishsinhaiitr/lord-of-the-rings-text\n",
        "file_location = '/content/drive/My Drive/*2020 Spring/Shakespeare and Tolkien'\n",
        "with open( '{}/1-FOTR.txt'.format(file_location), 'r', encoding='latin-1') as infile:\n",
        "    FOTR = infile.read()\n",
        "FOTR = FOTR.lower()\n",
        "\n",
        "file_location = '/content/drive/My Drive/*2020 Spring/Shakespeare and Tolkien'\n",
        "with open( '{}/2-TTT.txt'.format(file_location), 'r', encoding='latin-1') as infile:\n",
        "    TTT = infile.read()\n",
        "TTT = TTT.lower()\n",
        "\n",
        "file_location = '/content/drive/My Drive/*2020 Spring/Shakespeare and Tolkien'\n",
        "with open( '{}/3-ROTK.txt'.format(file_location), 'r', encoding='latin-1') as infile:\n",
        "    ROTK = infile.read()\n",
        "ROTK = ROTK.lower()"
      ],
      "execution_count": 0,
      "outputs": []
    },
    {
      "cell_type": "code",
      "metadata": {
        "id": "9Qg7Ko_Ih4iC",
        "colab_type": "code",
        "colab": {}
      },
      "source": [
        "# Split the books by chapter and take out the prologues\n",
        "FOTR = FOTR.split(\"_chapter\")\n",
        "TTT = TTT.split(\"_chapter\")\n",
        "ROTK = ROTK.split(\"_chapter\")\n",
        "\n",
        "FOTR = FOTR[1:]\n",
        "TTT = TTT[1:]\n",
        "ROTK = ROTK[1:]"
      ],
      "execution_count": 0,
      "outputs": []
    },
    {
      "cell_type": "code",
      "metadata": {
        "id": "WUFrpFdSiAAs",
        "colab_type": "code",
        "colab": {
          "base_uri": "https://localhost:8080/",
          "height": 68
        },
        "outputId": "4c579e64-8313-4b9d-99ef-dfbd675dded0"
      },
      "source": [
        "# Count the chapters per book\n",
        "print('There are {} chapters in The Fellowship of the Ring.'.format(len(FOTR)))\n",
        "print('There are {} chapters in The Two Towers.'.format(len(TTT)))\n",
        "print('There are {} chapters in The Return of the King.'.format(len(ROTK)))"
      ],
      "execution_count": 5,
      "outputs": [
        {
          "output_type": "stream",
          "text": [
            "There are 22 chapters in The Fellowship of the Ring.\n",
            "There are 21 chapters in The Two Towers.\n",
            "There are 19 chapters in The Return of the King.\n"
          ],
          "name": "stdout"
        }
      ]
    },
    {
      "cell_type": "markdown",
      "metadata": {
        "id": "DFgCgmIP0N_G",
        "colab_type": "text"
      },
      "source": [
        "## Creating the Model"
      ]
    },
    {
      "cell_type": "markdown",
      "metadata": {
        "id": "eu51Piw3QdcU",
        "colab_type": "text"
      },
      "source": [
        "### Sentiment Analysis"
      ]
    },
    {
      "cell_type": "code",
      "metadata": {
        "id": "ATfhyv9GXzxc",
        "colab_type": "code",
        "colab": {}
      },
      "source": [
        "# Create a list of positive scores by book and chapter\n",
        "FOTR_pos = []\n",
        "TTT_pos = []\n",
        "ROTK_pos = []\n",
        "LOTR_pos = []\n",
        "\n",
        "sid = SentimentIntensityAnalyzer()\n",
        "for i in FOTR:\n",
        "  ss = sid.polarity_scores(i)\n",
        "  FOTR_pos.append(ss['pos'])\n",
        "  LOTR_pos.append(ss['pos'])\n",
        "for i in TTT:\n",
        "  ss = sid.polarity_scores(i)\n",
        "  TTT_pos.append(ss['pos'])\n",
        "  LOTR_pos.append(ss['pos'])\n",
        "for i in ROTK:\n",
        "  ss = sid.polarity_scores(i)\n",
        "  ROTK_pos.append(ss['pos'])\n",
        "  LOTR_pos.append(ss['pos'])"
      ],
      "execution_count": 0,
      "outputs": []
    },
    {
      "cell_type": "code",
      "metadata": {
        "id": "CW76fhfsX_x9",
        "colab_type": "code",
        "colab": {}
      },
      "source": [
        "# Create a list of negative scores by chapter\n",
        "FOTR_neg = []\n",
        "TTT_neg = []\n",
        "ROTK_neg = []\n",
        "LOTR_neg = []\n",
        "\n",
        "for i in FOTR:\n",
        "  ss = sid.polarity_scores(i)\n",
        "  FOTR_neg.append(ss['neg'])\n",
        "  LOTR_neg.append(ss['neg'])\n",
        "for i in TTT:\n",
        "  ss = sid.polarity_scores(i)\n",
        "  TTT_neg.append(ss['neg'])\n",
        "  LOTR_neg.append(ss['neg'])\n",
        "for i in ROTK:\n",
        "  ss = sid.polarity_scores(i)\n",
        "  ROTK_neg.append(ss['neg'])\n",
        "  LOTR_neg.append(ss['neg'])"
      ],
      "execution_count": 0,
      "outputs": []
    },
    {
      "cell_type": "code",
      "metadata": {
        "id": "bSF-amwCCJ64",
        "colab_type": "code",
        "colab": {}
      },
      "source": [
        "# Create a list of neutral scores by chapter\n",
        "LOTR_neu = []\n",
        "\n",
        "for i in FOTR:\n",
        "  ss = sid.polarity_scores(i)\n",
        "  LOTR_neu.append(ss['neu'])\n",
        "for i in TTT:\n",
        "  ss = sid.polarity_scores(i)\n",
        "  LOTR_neu.append(ss['neu'])\n",
        "for i in ROTK:\n",
        "  ss = sid.polarity_scores(i)\n",
        "  LOTR_neu.append(ss['neu'])"
      ],
      "execution_count": 0,
      "outputs": []
    },
    {
      "cell_type": "code",
      "metadata": {
        "id": "5uJHZ8kWm6My",
        "colab_type": "code",
        "colab": {}
      },
      "source": [
        "# Create a list of compound scores by chapter\n",
        "FOTR_comp = []\n",
        "TTT_comp = []\n",
        "ROTK_comp = []\n",
        "LOTR_comp = []\n",
        "\n",
        "for i in FOTR:\n",
        "  ss = sid.polarity_scores(i)\n",
        "  FOTR_comp.append(ss['compound'])\n",
        "  LOTR_comp.append(ss['compound'])\n",
        "for i in TTT:\n",
        "  ss = sid.polarity_scores(i)\n",
        "  TTT_comp.append(ss['compound'])\n",
        "  LOTR_comp.append(ss['compound'])\n",
        "for i in ROTK:\n",
        "  ss = sid.polarity_scores(i)\n",
        "  ROTK_comp.append(ss['compound'])\n",
        "  LOTR_comp.append(ss['compound'])"
      ],
      "execution_count": 0,
      "outputs": []
    },
    {
      "cell_type": "markdown",
      "metadata": {
        "id": "h_w2VLsbQjO9",
        "colab_type": "text"
      },
      "source": [
        "### Dataframe Construction"
      ]
    },
    {
      "cell_type": "code",
      "metadata": {
        "id": "jgeHs3ceDhiX",
        "colab_type": "code",
        "colab": {}
      },
      "source": [
        "# Assign chapter and book names\n",
        "ch_names = ['A Long-expected Party', 'The Shadow of the Past', 'Three is Company', 'A Short Cut to Mushrooms',\n",
        "            'A Conspiracy Unmasked', 'The Old Forest', 'In the House of Tom Bombadil', 'Fog on the Barrow-downs',\n",
        "            'At the Sign of the Prancing Pony', 'Strider', 'A Knife in the Dark', 'Flight to the Ford',\n",
        "            'Many Meetings', 'The Council of Elrond', 'The Ring goes South', 'A Journey in the Dark',\n",
        "            'The Bridge of Khazad-dûm', 'Lothlórien', 'The Mirror of Galadriel', 'Farewell to Lórien',\n",
        "            'The Great River', 'The Breaking of the Fellowship', 'The Departure of Boromir', 'The Riders of Rohan',\n",
        "            'The Uruk-hai', 'Treebeard', 'The White Rider', 'The King of the Golden Hall', 'Helm\\'s Deep',\n",
        "            'The Road to Isengard', 'Flotsam and Jetsam', 'The Voice of Saruman', 'The Palantír', 'The Taming of Sméagol',\n",
        "            'The Passage of the Marshes', 'The Black Gate is Closed', 'Of Herbs and Stewed Rabbit', 'The Window on the West',\n",
        "            'The Forbidden Pool', 'Journey to the Cross-roads', 'The Stairs of Cirith Ungol', 'Shelob\\'s Lair',\n",
        "            'The Choices of Master Samwise', 'Minas Tirith', 'The Passing of the Grey Company', 'The Muster of Rohan',\n",
        "            'The Siege of Gondor', 'The Ride of the Rohirrim', 'The Battle of the Pelennor Fields', 'The Pyre of Denethor',\n",
        "            'The Houses of Healing', 'The Last Debate', 'The Black Gate Opens', 'The Tower of Cirith Ungol',\n",
        "            'The Land of Shadow', 'Mount Doom', 'The Field of Cormallen', 'The Steward and the King', 'Many Partings',\n",
        "            'Homeward Bound', 'The Scouring of the Shire', 'The Grey Havens']\n",
        "\n",
        "book_num = []\n",
        "for i in range(1, 13):\n",
        "  book_num.append('Book 1')\n",
        "for i in range(1, 11):\n",
        "  book_num.append('Book 2')\n",
        "for i in range(1, 12):\n",
        "  book_num.append('Book 3')\n",
        "for i in range(1, 11):\n",
        "  book_num.append('Book 4')\n",
        "for i in range(1, 11):\n",
        "  book_num.append('Book 5')\n",
        "for i in range(1, 10):\n",
        "  book_num.append('Book 6')\n",
        "\n",
        "book_name = []\n",
        "for i in range(1, 23):\n",
        "  book_name.append('The Fellowship of the Ring')\n",
        "for i in range(1, 22):\n",
        "  book_name.append('The Two Towers')\n",
        "for i in range(1, 20):\n",
        "  book_name.append('The Return of the King')\n",
        "\n",
        "index = []\n",
        "for i in range(1, 63):\n",
        "  index.append(i)\n",
        "\n",
        "col = ['Book Name', 'Book Number', 'Chapter Name', 'Positive SS', 'Negative SS', 'Neutral SS', 'Compound SS']"
      ],
      "execution_count": 0,
      "outputs": []
    },
    {
      "cell_type": "code",
      "metadata": {
        "id": "Or8fqbv9Ka0i",
        "colab_type": "code",
        "colab": {
          "base_uri": "https://localhost:8080/",
          "height": 1000
        },
        "outputId": "3184c6c5-13b3-4c89-f134-061457ab9455"
      },
      "source": [
        "# Creating a data frame\n",
        "LOTR_dataset = [book_name, book_num, ch_names, LOTR_pos, LOTR_neg, LOTR_neu, LOTR_comp]\n",
        "pd.set_option('display.max_rows', None)\n",
        "LOTR_df = pd.DataFrame(data=LOTR_dataset, index=col, columns=index)\n",
        "LOTR_df = LOTR_df.transpose()\n",
        "LOTR_df\n"
      ],
      "execution_count": 11,
      "outputs": [
        {
          "output_type": "execute_result",
          "data": {
            "text/html": [
              "<div>\n",
              "<style scoped>\n",
              "    .dataframe tbody tr th:only-of-type {\n",
              "        vertical-align: middle;\n",
              "    }\n",
              "\n",
              "    .dataframe tbody tr th {\n",
              "        vertical-align: top;\n",
              "    }\n",
              "\n",
              "    .dataframe thead th {\n",
              "        text-align: right;\n",
              "    }\n",
              "</style>\n",
              "<table border=\"1\" class=\"dataframe\">\n",
              "  <thead>\n",
              "    <tr style=\"text-align: right;\">\n",
              "      <th></th>\n",
              "      <th>Book Name</th>\n",
              "      <th>Book Number</th>\n",
              "      <th>Chapter Name</th>\n",
              "      <th>Positive SS</th>\n",
              "      <th>Negative SS</th>\n",
              "      <th>Neutral SS</th>\n",
              "      <th>Compound SS</th>\n",
              "    </tr>\n",
              "  </thead>\n",
              "  <tbody>\n",
              "    <tr>\n",
              "      <th>1</th>\n",
              "      <td>The Fellowship of the Ring</td>\n",
              "      <td>Book 1</td>\n",
              "      <td>A Long-expected Party</td>\n",
              "      <td>0.126</td>\n",
              "      <td>0.059</td>\n",
              "      <td>0.815</td>\n",
              "      <td>1</td>\n",
              "    </tr>\n",
              "    <tr>\n",
              "      <th>2</th>\n",
              "      <td>The Fellowship of the Ring</td>\n",
              "      <td>Book 1</td>\n",
              "      <td>The Shadow of the Past</td>\n",
              "      <td>0.127</td>\n",
              "      <td>0.099</td>\n",
              "      <td>0.774</td>\n",
              "      <td>0.9999</td>\n",
              "    </tr>\n",
              "    <tr>\n",
              "      <th>3</th>\n",
              "      <td>The Fellowship of the Ring</td>\n",
              "      <td>Book 1</td>\n",
              "      <td>Three is Company</td>\n",
              "      <td>0.099</td>\n",
              "      <td>0.055</td>\n",
              "      <td>0.846</td>\n",
              "      <td>0.9999</td>\n",
              "    </tr>\n",
              "    <tr>\n",
              "      <th>4</th>\n",
              "      <td>The Fellowship of the Ring</td>\n",
              "      <td>Book 1</td>\n",
              "      <td>A Short Cut to Mushrooms</td>\n",
              "      <td>0.086</td>\n",
              "      <td>0.075</td>\n",
              "      <td>0.838</td>\n",
              "      <td>0.9983</td>\n",
              "    </tr>\n",
              "    <tr>\n",
              "      <th>5</th>\n",
              "      <td>The Fellowship of the Ring</td>\n",
              "      <td>Book 1</td>\n",
              "      <td>A Conspiracy Unmasked</td>\n",
              "      <td>0.122</td>\n",
              "      <td>0.062</td>\n",
              "      <td>0.816</td>\n",
              "      <td>0.9999</td>\n",
              "    </tr>\n",
              "    <tr>\n",
              "      <th>6</th>\n",
              "      <td>The Fellowship of the Ring</td>\n",
              "      <td>Book 1</td>\n",
              "      <td>The Old Forest</td>\n",
              "      <td>0.091</td>\n",
              "      <td>0.077</td>\n",
              "      <td>0.832</td>\n",
              "      <td>0.9991</td>\n",
              "    </tr>\n",
              "    <tr>\n",
              "      <th>7</th>\n",
              "      <td>The Fellowship of the Ring</td>\n",
              "      <td>Book 1</td>\n",
              "      <td>In the House of Tom Bombadil</td>\n",
              "      <td>0.128</td>\n",
              "      <td>0.059</td>\n",
              "      <td>0.813</td>\n",
              "      <td>0.9999</td>\n",
              "    </tr>\n",
              "    <tr>\n",
              "      <th>8</th>\n",
              "      <td>The Fellowship of the Ring</td>\n",
              "      <td>Book 1</td>\n",
              "      <td>Fog on the Barrow-downs</td>\n",
              "      <td>0.111</td>\n",
              "      <td>0.08</td>\n",
              "      <td>0.81</td>\n",
              "      <td>0.9998</td>\n",
              "    </tr>\n",
              "    <tr>\n",
              "      <th>9</th>\n",
              "      <td>The Fellowship of the Ring</td>\n",
              "      <td>Book 1</td>\n",
              "      <td>At the Sign of the Prancing Pony</td>\n",
              "      <td>0.092</td>\n",
              "      <td>0.064</td>\n",
              "      <td>0.844</td>\n",
              "      <td>0.9997</td>\n",
              "    </tr>\n",
              "    <tr>\n",
              "      <th>10</th>\n",
              "      <td>The Fellowship of the Ring</td>\n",
              "      <td>Book 1</td>\n",
              "      <td>Strider</td>\n",
              "      <td>0.111</td>\n",
              "      <td>0.085</td>\n",
              "      <td>0.804</td>\n",
              "      <td>0.9996</td>\n",
              "    </tr>\n",
              "    <tr>\n",
              "      <th>11</th>\n",
              "      <td>The Fellowship of the Ring</td>\n",
              "      <td>Book 1</td>\n",
              "      <td>A Knife in the Dark</td>\n",
              "      <td>0.088</td>\n",
              "      <td>0.09</td>\n",
              "      <td>0.822</td>\n",
              "      <td>-0.9293</td>\n",
              "    </tr>\n",
              "    <tr>\n",
              "      <th>12</th>\n",
              "      <td>The Fellowship of the Ring</td>\n",
              "      <td>Book 1</td>\n",
              "      <td>Flight to the Ford</td>\n",
              "      <td>0.083</td>\n",
              "      <td>0.102</td>\n",
              "      <td>0.815</td>\n",
              "      <td>-0.9994</td>\n",
              "    </tr>\n",
              "    <tr>\n",
              "      <th>13</th>\n",
              "      <td>The Fellowship of the Ring</td>\n",
              "      <td>Book 2</td>\n",
              "      <td>Many Meetings</td>\n",
              "      <td>0.124</td>\n",
              "      <td>0.065</td>\n",
              "      <td>0.812</td>\n",
              "      <td>1</td>\n",
              "    </tr>\n",
              "    <tr>\n",
              "      <th>14</th>\n",
              "      <td>The Fellowship of the Ring</td>\n",
              "      <td>Book 2</td>\n",
              "      <td>The Council of Elrond</td>\n",
              "      <td>0.109</td>\n",
              "      <td>0.093</td>\n",
              "      <td>0.797</td>\n",
              "      <td>0.9999</td>\n",
              "    </tr>\n",
              "    <tr>\n",
              "      <th>15</th>\n",
              "      <td>The Fellowship of the Ring</td>\n",
              "      <td>Book 2</td>\n",
              "      <td>The Ring goes South</td>\n",
              "      <td>0.089</td>\n",
              "      <td>0.086</td>\n",
              "      <td>0.825</td>\n",
              "      <td>0.9981</td>\n",
              "    </tr>\n",
              "    <tr>\n",
              "      <th>16</th>\n",
              "      <td>The Fellowship of the Ring</td>\n",
              "      <td>Book 2</td>\n",
              "      <td>A Journey in the Dark</td>\n",
              "      <td>0.08</td>\n",
              "      <td>0.088</td>\n",
              "      <td>0.832</td>\n",
              "      <td>-0.9981</td>\n",
              "    </tr>\n",
              "    <tr>\n",
              "      <th>17</th>\n",
              "      <td>The Fellowship of the Ring</td>\n",
              "      <td>Book 2</td>\n",
              "      <td>The Bridge of Khazad-dûm</td>\n",
              "      <td>0.071</td>\n",
              "      <td>0.117</td>\n",
              "      <td>0.812</td>\n",
              "      <td>-0.9998</td>\n",
              "    </tr>\n",
              "    <tr>\n",
              "      <th>18</th>\n",
              "      <td>The Fellowship of the Ring</td>\n",
              "      <td>Book 2</td>\n",
              "      <td>Lothlórien</td>\n",
              "      <td>0.092</td>\n",
              "      <td>0.065</td>\n",
              "      <td>0.843</td>\n",
              "      <td>0.9998</td>\n",
              "    </tr>\n",
              "    <tr>\n",
              "      <th>19</th>\n",
              "      <td>The Fellowship of the Ring</td>\n",
              "      <td>Book 2</td>\n",
              "      <td>The Mirror of Galadriel</td>\n",
              "      <td>0.107</td>\n",
              "      <td>0.08</td>\n",
              "      <td>0.814</td>\n",
              "      <td>0.9997</td>\n",
              "    </tr>\n",
              "    <tr>\n",
              "      <th>20</th>\n",
              "      <td>The Fellowship of the Ring</td>\n",
              "      <td>Book 2</td>\n",
              "      <td>Farewell to Lórien</td>\n",
              "      <td>0.113</td>\n",
              "      <td>0.06</td>\n",
              "      <td>0.826</td>\n",
              "      <td>0.9999</td>\n",
              "    </tr>\n",
              "    <tr>\n",
              "      <th>21</th>\n",
              "      <td>The Fellowship of the Ring</td>\n",
              "      <td>Book 2</td>\n",
              "      <td>The Great River</td>\n",
              "      <td>0.072</td>\n",
              "      <td>0.078</td>\n",
              "      <td>0.849</td>\n",
              "      <td>-0.9882</td>\n",
              "    </tr>\n",
              "    <tr>\n",
              "      <th>22</th>\n",
              "      <td>The Fellowship of the Ring</td>\n",
              "      <td>Book 2</td>\n",
              "      <td>The Breaking of the Fellowship</td>\n",
              "      <td>0.103</td>\n",
              "      <td>0.12</td>\n",
              "      <td>0.777</td>\n",
              "      <td>-0.9985</td>\n",
              "    </tr>\n",
              "    <tr>\n",
              "      <th>23</th>\n",
              "      <td>The Two Towers</td>\n",
              "      <td>Book 3</td>\n",
              "      <td>The Departure of Boromir</td>\n",
              "      <td>0.071</td>\n",
              "      <td>0.092</td>\n",
              "      <td>0.838</td>\n",
              "      <td>-0.9974</td>\n",
              "    </tr>\n",
              "    <tr>\n",
              "      <th>24</th>\n",
              "      <td>The Two Towers</td>\n",
              "      <td>Book 3</td>\n",
              "      <td>The Riders of Rohan</td>\n",
              "      <td>0.075</td>\n",
              "      <td>0.097</td>\n",
              "      <td>0.828</td>\n",
              "      <td>-0.9998</td>\n",
              "    </tr>\n",
              "    <tr>\n",
              "      <th>25</th>\n",
              "      <td>The Two Towers</td>\n",
              "      <td>Book 3</td>\n",
              "      <td>The Uruk-hai</td>\n",
              "      <td>0.11</td>\n",
              "      <td>0.113</td>\n",
              "      <td>0.777</td>\n",
              "      <td>-0.8269</td>\n",
              "    </tr>\n",
              "    <tr>\n",
              "      <th>26</th>\n",
              "      <td>The Two Towers</td>\n",
              "      <td>Book 3</td>\n",
              "      <td>Treebeard</td>\n",
              "      <td>0.102</td>\n",
              "      <td>0.06</td>\n",
              "      <td>0.838</td>\n",
              "      <td>1</td>\n",
              "    </tr>\n",
              "    <tr>\n",
              "      <th>27</th>\n",
              "      <td>The Two Towers</td>\n",
              "      <td>Book 3</td>\n",
              "      <td>The White Rider</td>\n",
              "      <td>0.096</td>\n",
              "      <td>0.097</td>\n",
              "      <td>0.807</td>\n",
              "      <td>0.9878</td>\n",
              "    </tr>\n",
              "    <tr>\n",
              "      <th>28</th>\n",
              "      <td>The Two Towers</td>\n",
              "      <td>Book 3</td>\n",
              "      <td>The King of the Golden Hall</td>\n",
              "      <td>0.117</td>\n",
              "      <td>0.084</td>\n",
              "      <td>0.799</td>\n",
              "      <td>0.9999</td>\n",
              "    </tr>\n",
              "    <tr>\n",
              "      <th>29</th>\n",
              "      <td>The Two Towers</td>\n",
              "      <td>Book 3</td>\n",
              "      <td>Helm's Deep</td>\n",
              "      <td>0.088</td>\n",
              "      <td>0.094</td>\n",
              "      <td>0.818</td>\n",
              "      <td>-0.9908</td>\n",
              "    </tr>\n",
              "    <tr>\n",
              "      <th>30</th>\n",
              "      <td>The Two Towers</td>\n",
              "      <td>Book 3</td>\n",
              "      <td>The Road to Isengard</td>\n",
              "      <td>0.097</td>\n",
              "      <td>0.078</td>\n",
              "      <td>0.825</td>\n",
              "      <td>0.9997</td>\n",
              "    </tr>\n",
              "    <tr>\n",
              "      <th>31</th>\n",
              "      <td>The Two Towers</td>\n",
              "      <td>Book 3</td>\n",
              "      <td>Flotsam and Jetsam</td>\n",
              "      <td>0.114</td>\n",
              "      <td>0.071</td>\n",
              "      <td>0.816</td>\n",
              "      <td>0.9999</td>\n",
              "    </tr>\n",
              "    <tr>\n",
              "      <th>32</th>\n",
              "      <td>The Two Towers</td>\n",
              "      <td>Book 3</td>\n",
              "      <td>The Voice of Saruman</td>\n",
              "      <td>0.119</td>\n",
              "      <td>0.107</td>\n",
              "      <td>0.773</td>\n",
              "      <td>0.9985</td>\n",
              "    </tr>\n",
              "    <tr>\n",
              "      <th>33</th>\n",
              "      <td>The Two Towers</td>\n",
              "      <td>Book 3</td>\n",
              "      <td>The Palantír</td>\n",
              "      <td>0.091</td>\n",
              "      <td>0.095</td>\n",
              "      <td>0.815</td>\n",
              "      <td>-0.9439</td>\n",
              "    </tr>\n",
              "    <tr>\n",
              "      <th>34</th>\n",
              "      <td>The Two Towers</td>\n",
              "      <td>Book 4</td>\n",
              "      <td>The Taming of Sméagol</td>\n",
              "      <td>0.093</td>\n",
              "      <td>0.108</td>\n",
              "      <td>0.799</td>\n",
              "      <td>-0.9986</td>\n",
              "    </tr>\n",
              "    <tr>\n",
              "      <th>35</th>\n",
              "      <td>The Two Towers</td>\n",
              "      <td>Book 4</td>\n",
              "      <td>The Passage of the Marshes</td>\n",
              "      <td>0.103</td>\n",
              "      <td>0.127</td>\n",
              "      <td>0.77</td>\n",
              "      <td>-0.9996</td>\n",
              "    </tr>\n",
              "    <tr>\n",
              "      <th>36</th>\n",
              "      <td>The Two Towers</td>\n",
              "      <td>Book 4</td>\n",
              "      <td>The Black Gate is Closed</td>\n",
              "      <td>0.109</td>\n",
              "      <td>0.102</td>\n",
              "      <td>0.789</td>\n",
              "      <td>0.996</td>\n",
              "    </tr>\n",
              "    <tr>\n",
              "      <th>37</th>\n",
              "      <td>The Two Towers</td>\n",
              "      <td>Book 4</td>\n",
              "      <td>Of Herbs and Stewed Rabbit</td>\n",
              "      <td>0.102</td>\n",
              "      <td>0.088</td>\n",
              "      <td>0.81</td>\n",
              "      <td>0.9989</td>\n",
              "    </tr>\n",
              "    <tr>\n",
              "      <th>38</th>\n",
              "      <td>The Two Towers</td>\n",
              "      <td>Book 4</td>\n",
              "      <td>The Window on the West</td>\n",
              "      <td>0.099</td>\n",
              "      <td>0.096</td>\n",
              "      <td>0.805</td>\n",
              "      <td>0.9946</td>\n",
              "    </tr>\n",
              "    <tr>\n",
              "      <th>39</th>\n",
              "      <td>The Two Towers</td>\n",
              "      <td>Book 4</td>\n",
              "      <td>The Forbidden Pool</td>\n",
              "      <td>0.105</td>\n",
              "      <td>0.115</td>\n",
              "      <td>0.78</td>\n",
              "      <td>-0.995</td>\n",
              "    </tr>\n",
              "    <tr>\n",
              "      <th>40</th>\n",
              "      <td>The Two Towers</td>\n",
              "      <td>Book 4</td>\n",
              "      <td>Journey to the Cross-roads</td>\n",
              "      <td>0.08</td>\n",
              "      <td>0.098</td>\n",
              "      <td>0.822</td>\n",
              "      <td>-0.9972</td>\n",
              "    </tr>\n",
              "    <tr>\n",
              "      <th>41</th>\n",
              "      <td>The Two Towers</td>\n",
              "      <td>Book 4</td>\n",
              "      <td>The Stairs of Cirith Ungol</td>\n",
              "      <td>0.1</td>\n",
              "      <td>0.089</td>\n",
              "      <td>0.811</td>\n",
              "      <td>0.9988</td>\n",
              "    </tr>\n",
              "    <tr>\n",
              "      <th>42</th>\n",
              "      <td>The Two Towers</td>\n",
              "      <td>Book 4</td>\n",
              "      <td>Shelob's Lair</td>\n",
              "      <td>0.11</td>\n",
              "      <td>0.134</td>\n",
              "      <td>0.756</td>\n",
              "      <td>-0.9994</td>\n",
              "    </tr>\n",
              "    <tr>\n",
              "      <th>43</th>\n",
              "      <td>The Two Towers</td>\n",
              "      <td>Book 4</td>\n",
              "      <td>The Choices of Master Samwise</td>\n",
              "      <td>0.096</td>\n",
              "      <td>0.126</td>\n",
              "      <td>0.778</td>\n",
              "      <td>-0.9997</td>\n",
              "    </tr>\n",
              "    <tr>\n",
              "      <th>44</th>\n",
              "      <td>The Return of the King</td>\n",
              "      <td>Book 5</td>\n",
              "      <td>Minas Tirith</td>\n",
              "      <td>0.116</td>\n",
              "      <td>0.068</td>\n",
              "      <td>0.816</td>\n",
              "      <td>1</td>\n",
              "    </tr>\n",
              "    <tr>\n",
              "      <th>45</th>\n",
              "      <td>The Return of the King</td>\n",
              "      <td>Book 5</td>\n",
              "      <td>The Passing of the Grey Company</td>\n",
              "      <td>0.1</td>\n",
              "      <td>0.1</td>\n",
              "      <td>0.801</td>\n",
              "      <td>0.4908</td>\n",
              "    </tr>\n",
              "    <tr>\n",
              "      <th>46</th>\n",
              "      <td>The Return of the King</td>\n",
              "      <td>Book 5</td>\n",
              "      <td>The Muster of Rohan</td>\n",
              "      <td>0.104</td>\n",
              "      <td>0.088</td>\n",
              "      <td>0.808</td>\n",
              "      <td>0.9995</td>\n",
              "    </tr>\n",
              "    <tr>\n",
              "      <th>47</th>\n",
              "      <td>The Return of the King</td>\n",
              "      <td>Book 5</td>\n",
              "      <td>The Siege of Gondor</td>\n",
              "      <td>0.085</td>\n",
              "      <td>0.132</td>\n",
              "      <td>0.783</td>\n",
              "      <td>-1</td>\n",
              "    </tr>\n",
              "    <tr>\n",
              "      <th>48</th>\n",
              "      <td>The Return of the King</td>\n",
              "      <td>Book 5</td>\n",
              "      <td>The Ride of the Rohirrim</td>\n",
              "      <td>0.105</td>\n",
              "      <td>0.104</td>\n",
              "      <td>0.791</td>\n",
              "      <td>0.9869</td>\n",
              "    </tr>\n",
              "    <tr>\n",
              "      <th>49</th>\n",
              "      <td>The Return of the King</td>\n",
              "      <td>Book 5</td>\n",
              "      <td>The Battle of the Pelennor Fields</td>\n",
              "      <td>0.108</td>\n",
              "      <td>0.15</td>\n",
              "      <td>0.742</td>\n",
              "      <td>-0.9998</td>\n",
              "    </tr>\n",
              "    <tr>\n",
              "      <th>50</th>\n",
              "      <td>The Return of the King</td>\n",
              "      <td>Book 5</td>\n",
              "      <td>The Pyre of Denethor</td>\n",
              "      <td>0.083</td>\n",
              "      <td>0.145</td>\n",
              "      <td>0.772</td>\n",
              "      <td>-0.9998</td>\n",
              "    </tr>\n",
              "    <tr>\n",
              "      <th>51</th>\n",
              "      <td>The Return of the King</td>\n",
              "      <td>Book 5</td>\n",
              "      <td>The Houses of Healing</td>\n",
              "      <td>0.124</td>\n",
              "      <td>0.099</td>\n",
              "      <td>0.777</td>\n",
              "      <td>0.9997</td>\n",
              "    </tr>\n",
              "    <tr>\n",
              "      <th>52</th>\n",
              "      <td>The Return of the King</td>\n",
              "      <td>Book 5</td>\n",
              "      <td>The Last Debate</td>\n",
              "      <td>0.124</td>\n",
              "      <td>0.102</td>\n",
              "      <td>0.774</td>\n",
              "      <td>0.9994</td>\n",
              "    </tr>\n",
              "    <tr>\n",
              "      <th>53</th>\n",
              "      <td>The Return of the King</td>\n",
              "      <td>Book 5</td>\n",
              "      <td>The Black Gate Opens</td>\n",
              "      <td>0.095</td>\n",
              "      <td>0.141</td>\n",
              "      <td>0.764</td>\n",
              "      <td>-0.9998</td>\n",
              "    </tr>\n",
              "    <tr>\n",
              "      <th>54</th>\n",
              "      <td>The Return of the King</td>\n",
              "      <td>Book 6</td>\n",
              "      <td>The Tower of Cirith Ungol</td>\n",
              "      <td>0.087</td>\n",
              "      <td>0.128</td>\n",
              "      <td>0.785</td>\n",
              "      <td>-0.9999</td>\n",
              "    </tr>\n",
              "    <tr>\n",
              "      <th>55</th>\n",
              "      <td>The Return of the King</td>\n",
              "      <td>Book 6</td>\n",
              "      <td>The Land of Shadow</td>\n",
              "      <td>0.071</td>\n",
              "      <td>0.112</td>\n",
              "      <td>0.817</td>\n",
              "      <td>-0.9999</td>\n",
              "    </tr>\n",
              "    <tr>\n",
              "      <th>56</th>\n",
              "      <td>The Return of the King</td>\n",
              "      <td>Book 6</td>\n",
              "      <td>Mount Doom</td>\n",
              "      <td>0.088</td>\n",
              "      <td>0.141</td>\n",
              "      <td>0.771</td>\n",
              "      <td>-0.9999</td>\n",
              "    </tr>\n",
              "    <tr>\n",
              "      <th>57</th>\n",
              "      <td>The Return of the King</td>\n",
              "      <td>Book 6</td>\n",
              "      <td>The Field of Cormallen</td>\n",
              "      <td>0.136</td>\n",
              "      <td>0.096</td>\n",
              "      <td>0.769</td>\n",
              "      <td>0.9998</td>\n",
              "    </tr>\n",
              "    <tr>\n",
              "      <th>58</th>\n",
              "      <td>The Return of the King</td>\n",
              "      <td>Book 6</td>\n",
              "      <td>The Steward and the King</td>\n",
              "      <td>0.116</td>\n",
              "      <td>0.073</td>\n",
              "      <td>0.811</td>\n",
              "      <td>0.9999</td>\n",
              "    </tr>\n",
              "    <tr>\n",
              "      <th>59</th>\n",
              "      <td>The Return of the King</td>\n",
              "      <td>Book 6</td>\n",
              "      <td>Many Partings</td>\n",
              "      <td>0.121</td>\n",
              "      <td>0.06</td>\n",
              "      <td>0.82</td>\n",
              "      <td>0.9999</td>\n",
              "    </tr>\n",
              "    <tr>\n",
              "      <th>60</th>\n",
              "      <td>The Return of the King</td>\n",
              "      <td>Book 6</td>\n",
              "      <td>Homeward Bound</td>\n",
              "      <td>0.118</td>\n",
              "      <td>0.094</td>\n",
              "      <td>0.788</td>\n",
              "      <td>0.999</td>\n",
              "    </tr>\n",
              "    <tr>\n",
              "      <th>61</th>\n",
              "      <td>The Return of the King</td>\n",
              "      <td>Book 6</td>\n",
              "      <td>The Scouring of the Shire</td>\n",
              "      <td>0.103</td>\n",
              "      <td>0.114</td>\n",
              "      <td>0.783</td>\n",
              "      <td>-0.9991</td>\n",
              "    </tr>\n",
              "    <tr>\n",
              "      <th>62</th>\n",
              "      <td>The Return of the King</td>\n",
              "      <td>Book 6</td>\n",
              "      <td>The Grey Havens</td>\n",
              "      <td>0.141</td>\n",
              "      <td>0.059</td>\n",
              "      <td>0.8</td>\n",
              "      <td>0.9999</td>\n",
              "    </tr>\n",
              "  </tbody>\n",
              "</table>\n",
              "</div>"
            ],
            "text/plain": [
              "                     Book Name Book Number  ... Neutral SS Compound SS\n",
              "1   The Fellowship of the Ring      Book 1  ...      0.815           1\n",
              "2   The Fellowship of the Ring      Book 1  ...      0.774      0.9999\n",
              "3   The Fellowship of the Ring      Book 1  ...      0.846      0.9999\n",
              "4   The Fellowship of the Ring      Book 1  ...      0.838      0.9983\n",
              "5   The Fellowship of the Ring      Book 1  ...      0.816      0.9999\n",
              "6   The Fellowship of the Ring      Book 1  ...      0.832      0.9991\n",
              "7   The Fellowship of the Ring      Book 1  ...      0.813      0.9999\n",
              "8   The Fellowship of the Ring      Book 1  ...       0.81      0.9998\n",
              "9   The Fellowship of the Ring      Book 1  ...      0.844      0.9997\n",
              "10  The Fellowship of the Ring      Book 1  ...      0.804      0.9996\n",
              "11  The Fellowship of the Ring      Book 1  ...      0.822     -0.9293\n",
              "12  The Fellowship of the Ring      Book 1  ...      0.815     -0.9994\n",
              "13  The Fellowship of the Ring      Book 2  ...      0.812           1\n",
              "14  The Fellowship of the Ring      Book 2  ...      0.797      0.9999\n",
              "15  The Fellowship of the Ring      Book 2  ...      0.825      0.9981\n",
              "16  The Fellowship of the Ring      Book 2  ...      0.832     -0.9981\n",
              "17  The Fellowship of the Ring      Book 2  ...      0.812     -0.9998\n",
              "18  The Fellowship of the Ring      Book 2  ...      0.843      0.9998\n",
              "19  The Fellowship of the Ring      Book 2  ...      0.814      0.9997\n",
              "20  The Fellowship of the Ring      Book 2  ...      0.826      0.9999\n",
              "21  The Fellowship of the Ring      Book 2  ...      0.849     -0.9882\n",
              "22  The Fellowship of the Ring      Book 2  ...      0.777     -0.9985\n",
              "23              The Two Towers      Book 3  ...      0.838     -0.9974\n",
              "24              The Two Towers      Book 3  ...      0.828     -0.9998\n",
              "25              The Two Towers      Book 3  ...      0.777     -0.8269\n",
              "26              The Two Towers      Book 3  ...      0.838           1\n",
              "27              The Two Towers      Book 3  ...      0.807      0.9878\n",
              "28              The Two Towers      Book 3  ...      0.799      0.9999\n",
              "29              The Two Towers      Book 3  ...      0.818     -0.9908\n",
              "30              The Two Towers      Book 3  ...      0.825      0.9997\n",
              "31              The Two Towers      Book 3  ...      0.816      0.9999\n",
              "32              The Two Towers      Book 3  ...      0.773      0.9985\n",
              "33              The Two Towers      Book 3  ...      0.815     -0.9439\n",
              "34              The Two Towers      Book 4  ...      0.799     -0.9986\n",
              "35              The Two Towers      Book 4  ...       0.77     -0.9996\n",
              "36              The Two Towers      Book 4  ...      0.789       0.996\n",
              "37              The Two Towers      Book 4  ...       0.81      0.9989\n",
              "38              The Two Towers      Book 4  ...      0.805      0.9946\n",
              "39              The Two Towers      Book 4  ...       0.78      -0.995\n",
              "40              The Two Towers      Book 4  ...      0.822     -0.9972\n",
              "41              The Two Towers      Book 4  ...      0.811      0.9988\n",
              "42              The Two Towers      Book 4  ...      0.756     -0.9994\n",
              "43              The Two Towers      Book 4  ...      0.778     -0.9997\n",
              "44      The Return of the King      Book 5  ...      0.816           1\n",
              "45      The Return of the King      Book 5  ...      0.801      0.4908\n",
              "46      The Return of the King      Book 5  ...      0.808      0.9995\n",
              "47      The Return of the King      Book 5  ...      0.783          -1\n",
              "48      The Return of the King      Book 5  ...      0.791      0.9869\n",
              "49      The Return of the King      Book 5  ...      0.742     -0.9998\n",
              "50      The Return of the King      Book 5  ...      0.772     -0.9998\n",
              "51      The Return of the King      Book 5  ...      0.777      0.9997\n",
              "52      The Return of the King      Book 5  ...      0.774      0.9994\n",
              "53      The Return of the King      Book 5  ...      0.764     -0.9998\n",
              "54      The Return of the King      Book 6  ...      0.785     -0.9999\n",
              "55      The Return of the King      Book 6  ...      0.817     -0.9999\n",
              "56      The Return of the King      Book 6  ...      0.771     -0.9999\n",
              "57      The Return of the King      Book 6  ...      0.769      0.9998\n",
              "58      The Return of the King      Book 6  ...      0.811      0.9999\n",
              "59      The Return of the King      Book 6  ...       0.82      0.9999\n",
              "60      The Return of the King      Book 6  ...      0.788       0.999\n",
              "61      The Return of the King      Book 6  ...      0.783     -0.9991\n",
              "62      The Return of the King      Book 6  ...        0.8      0.9999\n",
              "\n",
              "[62 rows x 7 columns]"
            ]
          },
          "metadata": {
            "tags": []
          },
          "execution_count": 11
        }
      ]
    },
    {
      "cell_type": "markdown",
      "metadata": {
        "id": "I5S95LO_0Y8n",
        "colab_type": "text"
      },
      "source": [
        "## Visualizing the Results"
      ]
    },
    {
      "cell_type": "markdown",
      "metadata": {
        "id": "cqcBzyFg0eRz",
        "colab_type": "text"
      },
      "source": [
        "### Positive and Negative"
      ]
    },
    {
      "cell_type": "code",
      "metadata": {
        "id": "bz0VWh0OdB0b",
        "colab_type": "code",
        "colab": {
          "base_uri": "https://localhost:8080/",
          "height": 297
        },
        "outputId": "5a9979c0-de86-44f5-8e6c-74c913beebe3"
      },
      "source": [
        "# FOTR Book 1 positive and negative bar graph\n",
        "labels = ['1', '2', '3', '4', '5', '6', '7', '8', '9', '10', '11', '12']\n",
        "\n",
        "x = np.arange(len(labels))\n",
        "width = 0.35\n",
        "\n",
        "fig, ax = plt.subplots()\n",
        "rects1 = ax.bar(x - width/2, FOTR_pos[0:12], width, label='Positive', color='green')\n",
        "rects2 = ax.bar(x + width/2, FOTR_neg[0:12], width, label='Negative', color='red')\n",
        "\n",
        "ax.set_ylabel('Sentiment Score')\n",
        "ax.set_title('FOTR Book 1 Chapters')\n",
        "ax.set_xticks(x)\n",
        "ax.set_xticklabels(labels)\n",
        "ax.legend()\n",
        "\n",
        "fig.tight_layout()\n",
        "\n",
        "plt.show()"
      ],
      "execution_count": 12,
      "outputs": [
        {
          "output_type": "display_data",
          "data": {
            "image/png": "[encoded data removed]",
            "text/plain": [
              "<Figure size 432x288 with 1 Axes>"
            ]
          },
          "metadata": {
            "tags": [],
            "needs_background": "light"
          }
        }
      ]
    },
    {
      "cell_type": "code",
      "metadata": {
        "colab_type": "code",
        "id": "gN4D5QSYtXof",
        "colab": {
          "base_uri": "https://localhost:8080/",
          "height": 297
        },
        "outputId": "3c6e8efc-4416-4f5c-9646-7a67601c10c5"
      },
      "source": [
        "# FOTR Book 2 positive and negative bar graph\n",
        "x = np.arange(len(labels[:10]))\n",
        "width = 0.35\n",
        "\n",
        "fig, ax = plt.subplots()\n",
        "rects1 = ax.bar(x - width/2, FOTR_pos[12:22], width, label='Positive', color='green')\n",
        "rects2 = ax.bar(x + width/2, FOTR_neg[12:22], width, label='Negative', color='red')\n",
        "\n",
        "ax.set_ylabel('Sentiment Score')\n",
        "ax.set_title('FOTR Book 2 Chapters')\n",
        "ax.set_xticks(x)\n",
        "ax.set_xticklabels(labels[:10])\n",
        "ax.legend()\n",
        "\n",
        "fig.tight_layout()\n",
        "\n",
        "plt.show()"
      ],
      "execution_count": 13,
      "outputs": [
        {
          "output_type": "display_data",
          "data": {
            "image/png": "[encoded data removed]",
            "text/plain": [
              "<Figure size 432x288 with 1 Axes>"
            ]
          },
          "metadata": {
            "tags": [],
            "needs_background": "light"
          }
        }
      ]
    },
    {
      "cell_type": "code",
      "metadata": {
        "id": "ux85fWfNkHHE",
        "colab_type": "code",
        "colab": {
          "base_uri": "https://localhost:8080/",
          "height": 297
        },
        "outputId": "e77e0908-25dc-4284-8c53-5586ff2a9b45"
      },
      "source": [
        "# TTT Book 3 positive and negative bar graph\n",
        "x = np.arange(len(labels[:11]))\n",
        "width = 0.35\n",
        "\n",
        "fig, ax = plt.subplots()\n",
        "rects1 = ax.bar(x - width/2, TTT_pos[:11], width, label='Positive', color='green')\n",
        "rects2 = ax.bar(x + width/2, TTT_neg[:11], width, label='Negative', color='red')\n",
        "\n",
        "ax.set_ylabel('Sentiment Score')\n",
        "ax.set_title('TTT Book 3 Chapters')\n",
        "ax.set_xticks(x)\n",
        "ax.set_xticklabels(labels[:11])\n",
        "ax.legend()\n",
        "\n",
        "fig.tight_layout()\n",
        "\n",
        "plt.show()"
      ],
      "execution_count": 14,
      "outputs": [
        {
          "output_type": "display_data",
          "data": {
            "image/png": "[encoded data removed]",
            "text/plain": [
              "<Figure size 432x288 with 1 Axes>"
            ]
          },
          "metadata": {
            "tags": [],
            "needs_background": "light"
          }
        }
      ]
    },
    {
      "cell_type": "code",
      "metadata": {
        "colab_type": "code",
        "id": "VJqeR0JvvYPz",
        "colab": {
          "base_uri": "https://localhost:8080/",
          "height": 297
        },
        "outputId": "0612c5fe-502e-451c-db1a-2608b635f903"
      },
      "source": [
        "# TTT Book 4 positive and negative bar graph\n",
        "x = np.arange(len(labels[:10]))\n",
        "width = 0.35\n",
        "\n",
        "fig, ax = plt.subplots()\n",
        "rects1 = ax.bar(x - width/2, TTT_pos[11:21], width, label='Positive', color='green')\n",
        "rects2 = ax.bar(x + width/2, TTT_neg[11:21], width, label='Negative', color='red')\n",
        "\n",
        "ax.set_ylabel('Sentiment Score')\n",
        "ax.set_title('TTT Book 4 Chapters')\n",
        "ax.set_xticks(x)\n",
        "ax.set_xticklabels(labels[:10])\n",
        "ax.legend()\n",
        "\n",
        "fig.tight_layout()\n",
        "\n",
        "plt.show()\n",
        "\n"
      ],
      "execution_count": 15,
      "outputs": [
        {
          "output_type": "display_data",
          "data": {
            "image/png": "[encoded data removed]",
            "text/plain": [
              "<Figure size 432x288 with 1 Axes>"
            ]
          },
          "metadata": {
            "tags": [],
            "needs_background": "light"
          }
        }
      ]
    },
    {
      "cell_type": "code",
      "metadata": {
        "id": "X8tTZenZkPYS",
        "colab_type": "code",
        "colab": {
          "base_uri": "https://localhost:8080/",
          "height": 297
        },
        "outputId": "2c60afeb-6286-40e4-f953-3cbb8a09b8fc"
      },
      "source": [
        "# ROTK Book 5 positive and negative bar graph\n",
        "x = np.arange(len(labels[:10]))\n",
        "width = 0.35\n",
        "\n",
        "fig, ax = plt.subplots()\n",
        "rects1 = ax.bar(x - width/2, ROTK_pos[:10], width, label='Positive', color='green')\n",
        "rects2 = ax.bar(x + width/2, ROTK_neg[:10], width, label='Negative', color='red')\n",
        "\n",
        "ax.set_ylabel('Sentiment Score')\n",
        "ax.set_title('ROTK Book 5 Chapters')\n",
        "ax.set_xticks(x)\n",
        "ax.set_xticklabels(labels[:10])\n",
        "ax.legend()\n",
        "\n",
        "fig.tight_layout()\n",
        "\n",
        "plt.show()"
      ],
      "execution_count": 16,
      "outputs": [
        {
          "output_type": "display_data",
          "data": {
            "image/png": "[encoded data removed]",
            "text/plain": [
              "<Figure size 432x288 with 1 Axes>"
            ]
          },
          "metadata": {
            "tags": [],
            "needs_background": "light"
          }
        }
      ]
    },
    {
      "cell_type": "code",
      "metadata": {
        "colab_type": "code",
        "id": "C9eJNEZAwRg-",
        "colab": {
          "base_uri": "https://localhost:8080/",
          "height": 297
        },
        "outputId": "d76a26b7-87b3-45e5-9251-cb5e99aad728"
      },
      "source": [
        "# ROTK Book 6 positive and negative bar graph\n",
        "x = np.arange(len(labels[:9]))\n",
        "width = 0.35\n",
        "\n",
        "fig, ax = plt.subplots()\n",
        "rects1 = ax.bar(x - width/2, ROTK_pos[10:19], width, label='Positive', color='green')\n",
        "rects2 = ax.bar(x + width/2, ROTK_neg[10:19], width, label='Negative', color='red')\n",
        "\n",
        "ax.set_ylabel('Sentiment Score')\n",
        "ax.set_title('ROTK Book 6 Chapters')\n",
        "ax.set_xticks(x)\n",
        "ax.set_xticklabels(labels[:9])\n",
        "ax.legend()\n",
        "fig.tight_layout()\n",
        "plt.show()"
      ],
      "execution_count": 17,
      "outputs": [
        {
          "output_type": "display_data",
          "data": {
            "image/png": "[encoded data removed]",
            "text/plain": [
              "<Figure size 432x288 with 1 Axes>"
            ]
          },
          "metadata": {
            "tags": [],
            "needs_background": "light"
          }
        }
      ]
    },
    {
      "cell_type": "markdown",
      "metadata": {
        "id": "f_2AeiMd0jj0",
        "colab_type": "text"
      },
      "source": [
        "### Compound"
      ]
    },
    {
      "cell_type": "code",
      "metadata": {
        "id": "L7sj_nSshcbW",
        "colab_type": "code",
        "colab": {
          "base_uri": "https://localhost:8080/",
          "height": 297
        },
        "outputId": "0d510f12-7b44-402b-c733-576a11f98cea"
      },
      "source": [
        "# FOTR Book 1 compound bar graph\n",
        "x = np.arange(len(labels))\n",
        "width = 0.35\n",
        "fig, ax = plt.subplots()\n",
        "rects1 = ax.bar(x, FOTR_comp[:12], width, label='Sentiment')\n",
        "\n",
        "ax.set_ylabel('Sentiment Score')\n",
        "ax.set_title('FOTR Book 1 Chapters')\n",
        "ax.set_xticks(x)\n",
        "ax.set_xticklabels(labels)\n",
        "ax.legend()\n",
        "fig.tight_layout()\n",
        "plt.show()"
      ],
      "execution_count": 18,
      "outputs": [
        {
          "output_type": "display_data",
          "data": {
            "image/png": "[encoded data removed]",
            "text/plain": [
              "<Figure size 432x288 with 1 Axes>"
            ]
          },
          "metadata": {
            "tags": [],
            "needs_background": "light"
          }
        }
      ]
    },
    {
      "cell_type": "code",
      "metadata": {
        "colab_type": "code",
        "id": "EoRqy21JxBjN",
        "colab": {
          "base_uri": "https://localhost:8080/",
          "height": 297
        },
        "outputId": "65a6d60d-15f3-46b5-b165-43c9f5c8d5bd"
      },
      "source": [
        "# FOTR Book 2 compound bar graph\n",
        "x = np.arange(len(labels[:10]))\n",
        "width = 0.35\n",
        "fig, ax = plt.subplots()\n",
        "rects1 = ax.bar(x, FOTR_comp[12:], width, label='Sentiment')\n",
        "\n",
        "ax.set_ylabel('Sentiment Score')\n",
        "ax.set_title('FOTR Book 2 Chapters')\n",
        "ax.set_xticks(x)\n",
        "ax.set_xticklabels(labels[:10])\n",
        "ax.legend()\n",
        "fig.tight_layout()\n",
        "plt.show()"
      ],
      "execution_count": 19,
      "outputs": [
        {
          "output_type": "display_data",
          "data": {
            "image/png": "[encoded data removed]",
            "text/plain": [
              "<Figure size 432x288 with 1 Axes>"
            ]
          },
          "metadata": {
            "tags": [],
            "needs_background": "light"
          }
        }
      ]
    },
    {
      "cell_type": "code",
      "metadata": {
        "id": "c2YBuDN3mvAJ",
        "colab_type": "code",
        "colab": {
          "base_uri": "https://localhost:8080/",
          "height": 297
        },
        "outputId": "315e75d6-525c-4f4f-ecfc-e658c0b43497"
      },
      "source": [
        "# TTT Book 3 compound bar graph\n",
        "x = np.arange(len(labels[:11]))\n",
        "width = 0.35\n",
        "fig, ax = plt.subplots()\n",
        "rects1 = ax.bar(x, TTT_comp[:11], width, label='Sentiment')\n",
        "\n",
        "ax.set_ylabel('Sentiment Score')\n",
        "ax.set_title('TTT Book 3 Chapters')\n",
        "ax.set_xticks(x)\n",
        "ax.set_xticklabels(labels[:11])\n",
        "ax.legend()\n",
        "fig.tight_layout()\n",
        "plt.show()"
      ],
      "execution_count": 20,
      "outputs": [
        {
          "output_type": "display_data",
          "data": {
            "image/png": "[encoded data removed]",
            "text/plain": [
              "<Figure size 432x288 with 1 Axes>"
            ]
          },
          "metadata": {
            "tags": [],
            "needs_background": "light"
          }
        }
      ]
    },
    {
      "cell_type": "code",
      "metadata": {
        "colab_type": "code",
        "id": "NRiH4_3HxTGi",
        "colab": {
          "base_uri": "https://localhost:8080/",
          "height": 297
        },
        "outputId": "d2bc37a6-89a6-4652-f366-c04d33d6eeab"
      },
      "source": [
        "# TTT Book 4 compound bar graph\n",
        "x = np.arange(len(labels[:10]))\n",
        "width = 0.35\n",
        "fig, ax = plt.subplots()\n",
        "rects1 = ax.bar(x, TTT_comp[11:], width, label='Sentiment')\n",
        "\n",
        "ax.set_ylabel('Sentiment Score')\n",
        "ax.set_title('TTT Book 4 Chapters')\n",
        "ax.set_xticks(x)\n",
        "ax.set_xticklabels(labels[:10])\n",
        "ax.legend()\n",
        "fig.tight_layout()\n",
        "plt.show()"
      ],
      "execution_count": 21,
      "outputs": [
        {
          "output_type": "display_data",
          "data": {
            "image/png": "[encoded data removed]",
            "text/plain": [
              "<Figure size 432x288 with 1 Axes>"
            ]
          },
          "metadata": {
            "tags": [],
            "needs_background": "light"
          }
        }
      ]
    },
    {
      "cell_type": "code",
      "metadata": {
        "id": "2lrmBkTem3X7",
        "colab_type": "code",
        "colab": {
          "base_uri": "https://localhost:8080/",
          "height": 297
        },
        "outputId": "20993cec-67da-4423-89a3-92b436a19ffc"
      },
      "source": [
        "# ROTK Book 5 compound bar graph\n",
        "x = np.arange(len(labels[:10]))\n",
        "width = 0.35\n",
        "fig, ax = plt.subplots()\n",
        "rects1 = ax.bar(x, ROTK_comp[:10], width, label='Sentiment')\n",
        "\n",
        "ax.set_ylabel('Sentiment Score')\n",
        "ax.set_title('ROTK Book 5 Chapters')\n",
        "ax.set_xticks(x)\n",
        "ax.set_xticklabels(labels[:10])\n",
        "ax.legend()\n",
        "fig.tight_layout()\n",
        "plt.show()"
      ],
      "execution_count": 22,
      "outputs": [
        {
          "output_type": "display_data",
          "data": {
            "image/png": "[encoded data removed]",
            "text/plain": [
              "<Figure size 432x288 with 1 Axes>"
            ]
          },
          "metadata": {
            "tags": [],
            "needs_background": "light"
          }
        }
      ]
    },
    {
      "cell_type": "code",
      "metadata": {
        "id": "Bf0E73EyyBuj",
        "colab_type": "code",
        "colab": {
          "base_uri": "https://localhost:8080/",
          "height": 297
        },
        "outputId": "d5d6ae8d-59af-45d0-bce6-36712beda9f0"
      },
      "source": [
        "# ROTK Book 6 compound bar graph\n",
        "x = np.arange(len(labels[:9]))\n",
        "width = 0.35\n",
        "fig, ax = plt.subplots()\n",
        "rects1 = ax.bar(x, ROTK_comp[10:], width, label='Sentiment')\n",
        "\n",
        "ax.set_ylabel('Sentiment Score')\n",
        "ax.set_title('ROTK Book 6 Chapters')\n",
        "ax.set_xticks(x)\n",
        "ax.set_xticklabels(labels[:10])\n",
        "ax.legend()\n",
        "fig.tight_layout()\n",
        "plt.show()"
      ],
      "execution_count": 23,
      "outputs": [
        {
          "output_type": "display_data",
          "data": {
            "image/png": "[encoded data removed]",
            "text/plain": [
              "<Figure size 432x288 with 1 Axes>"
            ]
          },
          "metadata": {
            "tags": [],
            "needs_background": "light"
          }
        }
      ]
    }
  ]
}